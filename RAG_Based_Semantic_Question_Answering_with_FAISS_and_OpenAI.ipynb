{
  "nbformat": 4,
  "nbformat_minor": 0,
  "metadata": {
    "colab": {
      "provenance": []
    },
    "kernelspec": {
      "name": "python3",
      "display_name": "Python 3"
    },
    "language_info": {
      "name": "python"
    }
  },
  "cells": [
    {
      "cell_type": "markdown",
      "source": [
        "#***RAG using openAI***"
      ],
      "metadata": {
        "id": "HBKNaz8_A5tB"
      }
    },
    {
      "cell_type": "code",
      "execution_count": null,
      "metadata": {
        "colab": {
          "background_save": true,
          "base_uri": "https://localhost:8080/"
        },
        "id": "RUKIPLrhWi3k",
        "outputId": "3ecdade4-1541-422a-d764-a542dd51d379"
      },
      "outputs": [
        {
          "name": "stdout",
          "output_type": "stream",
          "text": [
            "Collecting faiss-cpu\n",
            "  Downloading faiss_cpu-1.11.0-cp311-cp311-manylinux_2_28_x86_64.whl.metadata (4.8 kB)\n",
            "Requirement already satisfied: sentence-transformers in /usr/local/lib/python3.11/dist-packages (4.1.0)\n",
            "Requirement already satisfied: numpy<3.0,>=1.25.0 in /usr/local/lib/python3.11/dist-packages (from faiss-cpu) (2.0.2)\n",
            "Requirement already satisfied: packaging in /usr/local/lib/python3.11/dist-packages (from faiss-cpu) (24.2)\n",
            "Requirement already satisfied: transformers<5.0.0,>=4.41.0 in /usr/local/lib/python3.11/dist-packages (from sentence-transformers) (4.53.0)\n",
            "Requirement already satisfied: tqdm in /usr/local/lib/python3.11/dist-packages (from sentence-transformers) (4.67.1)\n",
            "Requirement already satisfied: torch>=1.11.0 in /usr/local/lib/python3.11/dist-packages (from sentence-transformers) (2.6.0+cu124)\n",
            "Requirement already satisfied: scikit-learn in /usr/local/lib/python3.11/dist-packages (from sentence-transformers) (1.6.1)\n",
            "Requirement already satisfied: scipy in /usr/local/lib/python3.11/dist-packages (from sentence-transformers) (1.15.3)\n",
            "Requirement already satisfied: huggingface-hub>=0.20.0 in /usr/local/lib/python3.11/dist-packages (from sentence-transformers) (0.33.2)\n",
            "Requirement already satisfied: Pillow in /usr/local/lib/python3.11/dist-packages (from sentence-transformers) (11.2.1)\n",
            "Requirement already satisfied: typing_extensions>=4.5.0 in /usr/local/lib/python3.11/dist-packages (from sentence-transformers) (4.14.0)\n",
            "Requirement already satisfied: filelock in /usr/local/lib/python3.11/dist-packages (from huggingface-hub>=0.20.0->sentence-transformers) (3.18.0)\n",
            "Requirement already satisfied: fsspec>=2023.5.0 in /usr/local/lib/python3.11/dist-packages (from huggingface-hub>=0.20.0->sentence-transformers) (2025.3.2)\n",
            "Requirement already satisfied: pyyaml>=5.1 in /usr/local/lib/python3.11/dist-packages (from huggingface-hub>=0.20.0->sentence-transformers) (6.0.2)\n",
            "Requirement already satisfied: requests in /usr/local/lib/python3.11/dist-packages (from huggingface-hub>=0.20.0->sentence-transformers) (2.32.3)\n",
            "Requirement already satisfied: hf-xet<2.0.0,>=1.1.2 in /usr/local/lib/python3.11/dist-packages (from huggingface-hub>=0.20.0->sentence-transformers) (1.1.5)\n",
            "Requirement already satisfied: networkx in /usr/local/lib/python3.11/dist-packages (from torch>=1.11.0->sentence-transformers) (3.5)\n",
            "Requirement already satisfied: jinja2 in /usr/local/lib/python3.11/dist-packages (from torch>=1.11.0->sentence-transformers) (3.1.6)\n",
            "Collecting nvidia-cuda-nvrtc-cu12==12.4.127 (from torch>=1.11.0->sentence-transformers)\n",
            "  Downloading nvidia_cuda_nvrtc_cu12-12.4.127-py3-none-manylinux2014_x86_64.whl.metadata (1.5 kB)\n",
            "Collecting nvidia-cuda-runtime-cu12==12.4.127 (from torch>=1.11.0->sentence-transformers)\n",
            "  Downloading nvidia_cuda_runtime_cu12-12.4.127-py3-none-manylinux2014_x86_64.whl.metadata (1.5 kB)\n",
            "Collecting nvidia-cuda-cupti-cu12==12.4.127 (from torch>=1.11.0->sentence-transformers)\n",
            "  Downloading nvidia_cuda_cupti_cu12-12.4.127-py3-none-manylinux2014_x86_64.whl.metadata (1.6 kB)\n",
            "Collecting nvidia-cudnn-cu12==9.1.0.70 (from torch>=1.11.0->sentence-transformers)\n",
            "  Downloading nvidia_cudnn_cu12-9.1.0.70-py3-none-manylinux2014_x86_64.whl.metadata (1.6 kB)\n",
            "Collecting nvidia-cublas-cu12==12.4.5.8 (from torch>=1.11.0->sentence-transformers)\n",
            "  Downloading nvidia_cublas_cu12-12.4.5.8-py3-none-manylinux2014_x86_64.whl.metadata (1.5 kB)\n",
            "Collecting nvidia-cufft-cu12==11.2.1.3 (from torch>=1.11.0->sentence-transformers)\n",
            "  Downloading nvidia_cufft_cu12-11.2.1.3-py3-none-manylinux2014_x86_64.whl.metadata (1.5 kB)\n",
            "Collecting nvidia-curand-cu12==10.3.5.147 (from torch>=1.11.0->sentence-transformers)\n",
            "  Downloading nvidia_curand_cu12-10.3.5.147-py3-none-manylinux2014_x86_64.whl.metadata (1.5 kB)\n",
            "Collecting nvidia-cusolver-cu12==11.6.1.9 (from torch>=1.11.0->sentence-transformers)\n",
            "  Downloading nvidia_cusolver_cu12-11.6.1.9-py3-none-manylinux2014_x86_64.whl.metadata (1.6 kB)\n",
            "Collecting nvidia-cusparse-cu12==12.3.1.170 (from torch>=1.11.0->sentence-transformers)\n",
            "  Downloading nvidia_cusparse_cu12-12.3.1.170-py3-none-manylinux2014_x86_64.whl.metadata (1.6 kB)\n",
            "Requirement already satisfied: nvidia-cusparselt-cu12==0.6.2 in /usr/local/lib/python3.11/dist-packages (from torch>=1.11.0->sentence-transformers) (0.6.2)\n",
            "Requirement already satisfied: nvidia-nccl-cu12==2.21.5 in /usr/local/lib/python3.11/dist-packages (from torch>=1.11.0->sentence-transformers) (2.21.5)\n",
            "Requirement already satisfied: nvidia-nvtx-cu12==12.4.127 in /usr/local/lib/python3.11/dist-packages (from torch>=1.11.0->sentence-transformers) (12.4.127)\n",
            "Collecting nvidia-nvjitlink-cu12==12.4.127 (from torch>=1.11.0->sentence-transformers)\n",
            "  Downloading nvidia_nvjitlink_cu12-12.4.127-py3-none-manylinux2014_x86_64.whl.metadata (1.5 kB)\n",
            "Requirement already satisfied: triton==3.2.0 in /usr/local/lib/python3.11/dist-packages (from torch>=1.11.0->sentence-transformers) (3.2.0)\n",
            "Requirement already satisfied: sympy==1.13.1 in /usr/local/lib/python3.11/dist-packages (from torch>=1.11.0->sentence-transformers) (1.13.1)\n",
            "Requirement already satisfied: mpmath<1.4,>=1.1.0 in /usr/local/lib/python3.11/dist-packages (from sympy==1.13.1->torch>=1.11.0->sentence-transformers) (1.3.0)\n",
            "Requirement already satisfied: regex!=2019.12.17 in /usr/local/lib/python3.11/dist-packages (from transformers<5.0.0,>=4.41.0->sentence-transformers) (2024.11.6)\n",
            "Requirement already satisfied: tokenizers<0.22,>=0.21 in /usr/local/lib/python3.11/dist-packages (from transformers<5.0.0,>=4.41.0->sentence-transformers) (0.21.2)\n",
            "Requirement already satisfied: safetensors>=0.4.3 in /usr/local/lib/python3.11/dist-packages (from transformers<5.0.0,>=4.41.0->sentence-transformers) (0.5.3)\n",
            "Requirement already satisfied: joblib>=1.2.0 in /usr/local/lib/python3.11/dist-packages (from scikit-learn->sentence-transformers) (1.5.1)\n",
            "Requirement already satisfied: threadpoolctl>=3.1.0 in /usr/local/lib/python3.11/dist-packages (from scikit-learn->sentence-transformers) (3.6.0)\n",
            "Requirement already satisfied: MarkupSafe>=2.0 in /usr/local/lib/python3.11/dist-packages (from jinja2->torch>=1.11.0->sentence-transformers) (3.0.2)\n",
            "Requirement already satisfied: charset-normalizer<4,>=2 in /usr/local/lib/python3.11/dist-packages (from requests->huggingface-hub>=0.20.0->sentence-transformers) (3.4.2)\n",
            "Requirement already satisfied: idna<4,>=2.5 in /usr/local/lib/python3.11/dist-packages (from requests->huggingface-hub>=0.20.0->sentence-transformers) (3.10)\n",
            "Requirement already satisfied: urllib3<3,>=1.21.1 in /usr/local/lib/python3.11/dist-packages (from requests->huggingface-hub>=0.20.0->sentence-transformers) (2.4.0)\n",
            "Requirement already satisfied: certifi>=2017.4.17 in /usr/local/lib/python3.11/dist-packages (from requests->huggingface-hub>=0.20.0->sentence-transformers) (2025.6.15)\n",
            "Downloading faiss_cpu-1.11.0-cp311-cp311-manylinux_2_28_x86_64.whl (31.3 MB)\n",
            "\u001b[2K   \u001b[90m━━━━━━━━━━━━━━━━━━━━━━━━━━━━━━━━━━━━━━━━\u001b[0m \u001b[32m31.3/31.3 MB\u001b[0m \u001b[31m45.2 MB/s\u001b[0m eta \u001b[36m0:00:00\u001b[0m\n",
            "\u001b[?25hDownloading nvidia_cublas_cu12-12.4.5.8-py3-none-manylinux2014_x86_64.whl (363.4 MB)\n",
            "\u001b[2K   \u001b[90m━━━━━━━━━━━━━━━━━━━━━━━━━━━━━━━━━━━━━━━━\u001b[0m \u001b[32m363.4/363.4 MB\u001b[0m \u001b[31m4.2 MB/s\u001b[0m eta \u001b[36m0:00:00\u001b[0m\n",
            "\u001b[?25hDownloading nvidia_cuda_cupti_cu12-12.4.127-py3-none-manylinux2014_x86_64.whl (13.8 MB)\n",
            "\u001b[2K   \u001b[90m━━━━━━━━━━━━━━━━━━━━━━━━━━━━━━━━━━━━━━━━\u001b[0m \u001b[32m13.8/13.8 MB\u001b[0m \u001b[31m61.9 MB/s\u001b[0m eta \u001b[36m0:00:00\u001b[0m\n",
            "\u001b[?25hDownloading nvidia_cuda_nvrtc_cu12-12.4.127-py3-none-manylinux2014_x86_64.whl (24.6 MB)\n",
            "\u001b[2K   \u001b[90m━━━━━━━━━━━━━━━━━━━━━━━━━━━━━━━━━━━━━━━━\u001b[0m \u001b[32m24.6/24.6 MB\u001b[0m \u001b[31m34.5 MB/s\u001b[0m eta \u001b[36m0:00:00\u001b[0m\n",
            "\u001b[?25hDownloading nvidia_cuda_runtime_cu12-12.4.127-py3-none-manylinux2014_x86_64.whl (883 kB)\n",
            "\u001b[2K   \u001b[90m━━━━━━━━━━━━━━━━━━━━━━━━━━━━━━━━━━━━━━━━\u001b[0m \u001b[32m883.7/883.7 kB\u001b[0m \u001b[31m35.9 MB/s\u001b[0m eta \u001b[36m0:00:00\u001b[0m\n",
            "\u001b[?25hDownloading nvidia_cudnn_cu12-9.1.0.70-py3-none-manylinux2014_x86_64.whl (664.8 MB)\n",
            "\u001b[2K   \u001b[91m━━━━━━━━━\u001b[0m\u001b[90m╺\u001b[0m\u001b[90m━━━━━━━━━━━━━━━━━━━━━━━━━━━━━\u001b[0m \u001b[32m154.4/664.8 MB\u001b[0m \u001b[31m116.2 MB/s\u001b[0m eta \u001b[36m0:00:05\u001b[0m\n",
            "\u001b[?25h\u001b[31mERROR: Operation cancelled by user\u001b[0m\u001b[31m\n",
            "\u001b[0m"
          ]
        }
      ],
      "source": [
        "!pip install faiss-cpu sentence-transformers"
      ]
    },
    {
      "cell_type": "code",
      "execution_count": null,
      "metadata": {
        "id": "AQubMVi_X63k"
      },
      "outputs": [],
      "source": [
        "from sentence_transformers import SentenceTransformer\n",
        "import faiss\n",
        "import numpy as np"
      ]
    },
    {
      "cell_type": "code",
      "execution_count": null,
      "metadata": {
        "colab": {
          "background_save": true
        },
        "id": "hgfY_sVHYTnl"
      },
      "outputs": [],
      "source": [
        "sentences=[\n",
        "    \"I love cats\",\n",
        "    \"Dogs are the best\",\n",
        "    \"Artificial intelligence is the future\",\n",
        "    \"cats are cute animals\",\n",
        "    \"I enjoy machine machine learning\",\n",
        "    \"i have a pet dog\"\n",
        "]"
      ]
    },
    {
      "cell_type": "code",
      "execution_count": null,
      "metadata": {
        "colab": {
          "base_uri": "https://localhost:8080/",
          "height": 473,
          "referenced_widgets": [
            "be6f9da50c5646cbb34bf20f75424983",
            "0c47caa3eb934b53811fe1307b3e7fac",
            "578a50cce529443f82101a453fc4716b",
            "347a9d3d33934cf695d58ae8cf4254db",
            "a600055868a64da39749a6e459d12e89",
            "fb3e1215e0334925ba49e135907ebc3d",
            "80829a04144c4ad49343a219d7ccd687",
            "9372f09f440e485ea5994b91138b2052",
            "76ea1d37ea3a4eada87151723255a1da",
            "33130342a7d844bdb9f2f1793b808927",
            "15778164ba1b41ef80b30d27d845b191",
            "c620a267300c4206b476bb23b8b7d240",
            "f009ccc20626452199ecb39f654a0a28",
            "d9cbfa0a7e3c40bd8877d966e8beea0c",
            "f82e7467be2b48aba450a11c0835e05d",
            "d0a610f6aa844ef3bc0f51421a74bac8",
            "0db42bba573b4482876cef8eeb6c6d80",
            "7484fdd0c1484d7f81f2ea5ce45678a3",
            "06527cebe88747599ab3fa2dc9165cae",
            "49a87370ce48419a806f56087374c086",
            "ddc97f3b46b1429cbad3206fb57a7294",
            "63fd1242c5e34b3f86f4060e4669d875",
            "dd84597b0b7f4eaa859cf5315901031e",
            "90c6a4f066de440bbca2f60ef07af82a",
            "d00350b4da6b4c6da0a0228c1f064d09",
            "26c7c252bee94a44a21d179e469bba42",
            "570f9952520e410a82384c6ef9d8a718",
            "f07e1ec1ab264bc8838343b1ae54cf1e",
            "61cb593babb742cebd8cf051e7bb91ee",
            "7a93ecf7fa7240e6a25bfea938f97368",
            "1303c313d8e3495b84acd60368c148a7",
            "d715e48a50444455b2fba1e2ac3e1183",
            "147dd3f32dd74ca8b21cc2e691d47f41",
            "efbf93403076456f9ed7696b42b8ecfa",
            "d4ba9596a0b34985ae8d64abc9a0985e",
            "11b0ec5f6c664fc7904a60c6fd11acec",
            "e420b84c791b40d69362b03449a0a27b",
            "b5cefb4ce05840bf81283cab8c9fd0aa",
            "453ff221570145d4bb701cfaca3fc156",
            "500f02c0cc7b4041b7f7e7022063c102",
            "1329bc0d5f074bb8bd74bc35b6d9ad0d",
            "63a5a9d6e382403791c6fcc113cb70e4",
            "3a44c9741eb3423f8d9b5eff54836ec8",
            "604172a5dc9e4ca19353d40c25b70938",
            "fc4f19d4fc484f5284e19da62d28d509",
            "bdc08f42911249bc941bdd8012177936",
            "96000047fb264d79a0828dcba1e59d4e",
            "61081a73f11d443998d490485e97daaa",
            "6f7d0e4bc151408095b74ad132b3c5cf",
            "d2f892e99aae489db06553876974a1cc",
            "14a43e92857a4a56afbb861ca53d38bf",
            "bf821b12a3e549aaa17b1bc89e9d3637",
            "6809484a93fb449caa52b9f8063d7af5",
            "02308fbb59e347f38a7235771a31f424",
            "e323715fb89c4d20ba20867c5446f674",
            "d8e011c4d89a470e9d287577f14e6a02",
            "14b57f00e6c445ada2ce51d0771ae619",
            "2b550d33927347bdad865feeba61f3f8",
            "d8e018efa8604b5a8bd1b46d3baf75aa",
            "3aee0867261444f4bc8558dc701ba43d",
            "64f0f779acf94b32a137ed5787fc220c",
            "6e14c7325dc84096985ace5d21a2311f",
            "60078484ebe540e19b8602ce1a40bc05",
            "2bc823f44a494bff8627c1aec4b9e075",
            "cd40240688a8431f9f81a3b9e8a78b21",
            "32bd37284e0441948feb38767e2ca65b",
            "0e9bfa9587da4456b537e25d47014dc6",
            "c95551e2d7614babbdd3d5ee90465325",
            "911fb790e7434da790986b281ce26fce",
            "9776640f4ef143aea000966255489724",
            "0bd42c12280543fa82f8ae4867ab2273",
            "d214f318124b4e52af0c73fa7d08a7fc",
            "50eace569b7d4933b4fe1f3b3c0c12a9",
            "e54e060196264c328abb5a18bc2a6419",
            "c41366a0e2694d96a6baf83d724c9726",
            "46a770813cae459aaf68013b685426ff",
            "c9396cd00a51485ebf4a29a4c0c7a80f",
            "1679a535f94843159af420a69e1970e9",
            "27333811ff824933b74ab122df293905",
            "3dc46c76c61b42bbbd52369ddcb82153",
            "7395eb0209e8475c9c1509fd87af47e1",
            "f13ecb09f3e04838bad49f50d43c1430",
            "0f5d6d777d6249c9853a6336ecbb8495",
            "6ad4ccb79dc44e4aa1973de111753069",
            "dabec8f4aea7476e895776182ad5e04a",
            "574aa0572be645e99250363e33ca5445",
            "a40f1245e5c14213a0cb75f2316baa4c",
            "a3d00a92d5e6404bb69121085805bf34",
            "b4e4776b4c1243889a26792d3b0db5a1",
            "703a4bf63ea0440fa3aed10195fc2ce3",
            "58ea5bb6c4394d8c8153918e1410b7d5",
            "f15f461cd6c64761842ede2ca4b40aa4",
            "2ba2cb2ad7a246a1bcef9e9ca2c07fab",
            "1c55791502b4470b82d9601a58ca8545",
            "9b9eacc466fe4aa1bf8b285dad446bf0",
            "d43df14be4c547ecac51c6bef5b3cc2b",
            "3068953faa244640aaf0f25317f6704e",
            "3c6ae417ee824037a62d00b098fdb1c8",
            "ac406399930d4385b3f7bf65dcc5bff8",
            "81de890c93444a01b85cef68cb281610",
            "a0b3d26018454621a7df76f0e4706230",
            "b160a00ca50e4832b2e84f1c1dc6e5ae",
            "824d36057c7e4d8bb0cb1dd81f44369d",
            "0d41a5a578ef427a9118074dff785875",
            "33d0e90fa5a84b6eaa7eb0de0229982a",
            "0cc96f2bd95b471db36fee5f67ef8821",
            "afe6a526edf14f318e04b00d4f26859d",
            "bebbb5b453e441569b394e51220720a4",
            "c7a8e3cf8f914ab7bd1f6cdb65efe651",
            "eab6bd201b24499faaf604f475529564",
            "41a77e74505448ba8ee772c157cead20",
            "623babfbd8c34cd4b839417a2a6b43ee",
            "2f8ce9af03934a28bfcb43f59429bd85",
            "876db8ea0fa14259afa58bfc2c93003f",
            "c122cd3c80894f12a36c458dd6bb3157",
            "beac1c60933b49788c48f5f59d337a96",
            "c6ead1145d1948b1838c385746ceffe6",
            "9e758f612c7346a188f51556aa38e33b",
            "9896290c319b4b6986e4b6a2c2a7daaa",
            "f3818390e8794a5eb64cb1849196c504",
            "22cb488102cf4ed98b588562ff1d81cc"
          ]
        },
        "id": "XvvduRzFY817",
        "outputId": "74ff2e39-e77f-4da4-c117-61892c0c0c04"
      },
      "outputs": [
        {
          "name": "stderr",
          "output_type": "stream",
          "text": [
            "/usr/local/lib/python3.11/dist-packages/huggingface_hub/utils/_auth.py:94: UserWarning: \n",
            "The secret `HF_TOKEN` does not exist in your Colab secrets.\n",
            "To authenticate with the Hugging Face Hub, create a token in your settings tab (https://huggingface.co/settings/tokens), set it as secret in your Google Colab and restart your session.\n",
            "You will be able to reuse this secret in all of your notebooks.\n",
            "Please note that authentication is recommended but still optional to access public models or datasets.\n",
            "  warnings.warn(\n"
          ]
        },
        {
          "data": {
            "application/vnd.jupyter.widget-view+json": {
              "model_id": "be6f9da50c5646cbb34bf20f75424983",
              "version_major": 2,
              "version_minor": 0
            },
            "text/plain": [
              "modules.json:   0%|          | 0.00/349 [00:00<?, ?B/s]"
            ]
          },
          "metadata": {},
          "output_type": "display_data"
        },
        {
          "data": {
            "application/vnd.jupyter.widget-view+json": {
              "model_id": "c620a267300c4206b476bb23b8b7d240",
              "version_major": 2,
              "version_minor": 0
            },
            "text/plain": [
              "config_sentence_transformers.json:   0%|          | 0.00/116 [00:00<?, ?B/s]"
            ]
          },
          "metadata": {},
          "output_type": "display_data"
        },
        {
          "data": {
            "application/vnd.jupyter.widget-view+json": {
              "model_id": "dd84597b0b7f4eaa859cf5315901031e",
              "version_major": 2,
              "version_minor": 0
            },
            "text/plain": [
              "README.md: 0.00B [00:00, ?B/s]"
            ]
          },
          "metadata": {},
          "output_type": "display_data"
        },
        {
          "data": {
            "application/vnd.jupyter.widget-view+json": {
              "model_id": "efbf93403076456f9ed7696b42b8ecfa",
              "version_major": 2,
              "version_minor": 0
            },
            "text/plain": [
              "sentence_bert_config.json:   0%|          | 0.00/53.0 [00:00<?, ?B/s]"
            ]
          },
          "metadata": {},
          "output_type": "display_data"
        },
        {
          "data": {
            "application/vnd.jupyter.widget-view+json": {
              "model_id": "fc4f19d4fc484f5284e19da62d28d509",
              "version_major": 2,
              "version_minor": 0
            },
            "text/plain": [
              "config.json:   0%|          | 0.00/612 [00:00<?, ?B/s]"
            ]
          },
          "metadata": {},
          "output_type": "display_data"
        },
        {
          "data": {
            "application/vnd.jupyter.widget-view+json": {
              "model_id": "d8e011c4d89a470e9d287577f14e6a02",
              "version_major": 2,
              "version_minor": 0
            },
            "text/plain": [
              "model.safetensors:   0%|          | 0.00/90.9M [00:00<?, ?B/s]"
            ]
          },
          "metadata": {},
          "output_type": "display_data"
        },
        {
          "data": {
            "application/vnd.jupyter.widget-view+json": {
              "model_id": "0e9bfa9587da4456b537e25d47014dc6",
              "version_major": 2,
              "version_minor": 0
            },
            "text/plain": [
              "tokenizer_config.json:   0%|          | 0.00/350 [00:00<?, ?B/s]"
            ]
          },
          "metadata": {},
          "output_type": "display_data"
        },
        {
          "data": {
            "application/vnd.jupyter.widget-view+json": {
              "model_id": "1679a535f94843159af420a69e1970e9",
              "version_major": 2,
              "version_minor": 0
            },
            "text/plain": [
              "vocab.txt: 0.00B [00:00, ?B/s]"
            ]
          },
          "metadata": {},
          "output_type": "display_data"
        },
        {
          "data": {
            "application/vnd.jupyter.widget-view+json": {
              "model_id": "b4e4776b4c1243889a26792d3b0db5a1",
              "version_major": 2,
              "version_minor": 0
            },
            "text/plain": [
              "tokenizer.json: 0.00B [00:00, ?B/s]"
            ]
          },
          "metadata": {},
          "output_type": "display_data"
        },
        {
          "data": {
            "application/vnd.jupyter.widget-view+json": {
              "model_id": "81de890c93444a01b85cef68cb281610",
              "version_major": 2,
              "version_minor": 0
            },
            "text/plain": [
              "special_tokens_map.json:   0%|          | 0.00/112 [00:00<?, ?B/s]"
            ]
          },
          "metadata": {},
          "output_type": "display_data"
        },
        {
          "data": {
            "application/vnd.jupyter.widget-view+json": {
              "model_id": "41a77e74505448ba8ee772c157cead20",
              "version_major": 2,
              "version_minor": 0
            },
            "text/plain": [
              "config.json:   0%|          | 0.00/190 [00:00<?, ?B/s]"
            ]
          },
          "metadata": {},
          "output_type": "display_data"
        }
      ],
      "source": [
        "model=SentenceTransformer('all-MiniLM-L6-v2')"
      ]
    },
    {
      "cell_type": "code",
      "execution_count": null,
      "metadata": {
        "id": "XTcMG35vZ-Ks"
      },
      "outputs": [],
      "source": [
        "embeddings=model.encode(sentences)  #shape(6,384)\n",
        "embeddings=np.array(embeddings).astype('float32')"
      ]
    },
    {
      "cell_type": "code",
      "execution_count": null,
      "metadata": {
        "id": "R7vegDaOahLo"
      },
      "outputs": [],
      "source": [
        "dimension=embeddings.shape[1]\n",
        "index=faiss.IndexFlatL2(dimension)\n",
        "index.add(embeddings)"
      ]
    },
    {
      "cell_type": "code",
      "execution_count": null,
      "metadata": {
        "id": "_U1Q4KlWbrZP"
      },
      "outputs": [],
      "source": [
        "query=\"I adore dogs\"\n",
        "query_vector=model.encode([query]).astype(\"float32\")\n",
        "\n",
        "top_k=3\n",
        "distances,indices=index.search(query_vector,top_k)"
      ]
    },
    {
      "cell_type": "code",
      "execution_count": null,
      "metadata": {
        "colab": {
          "base_uri": "https://localhost:8080/"
        },
        "id": "sid6IC05dS32",
        "outputId": "153cf524-57aa-428e-995e-8399217ee0f2"
      },
      "outputs": [
        {
          "name": "stdout",
          "output_type": "stream",
          "text": [
            "Query: I adore dogs\n",
            "\n",
            "Top Similar Sentences:\n",
            "- Dogs are the best\n",
            "- I love cats\n",
            "- i have a pet dog\n"
          ]
        }
      ],
      "source": [
        "print(\"Query:\", query)\n",
        "print(\"\\nTop Similar Sentences:\")\n",
        "for idx in indices[0]:\n",
        "  print(\"-\",sentences[idx])"
      ]
    },
    {
      "cell_type": "code",
      "execution_count": null,
      "metadata": {
        "colab": {
          "base_uri": "https://localhost:8080/"
        },
        "collapsed": true,
        "id": "EyetZuDdlFgU",
        "outputId": "a3699a6b-996a-4167-a33b-7e10a6853640"
      },
      "outputs": [
        {
          "name": "stdout",
          "output_type": "stream",
          "text": [
            "ERROR: unknown command \"insrtall\" - maybe you meant \"install\"\n"
          ]
        }
      ],
      "source": [
        "import openai\n",
        "!pip insrtall faiss-cpu sentence-transformers openai\n",
        "openai.api_key=\"YOUR OPEN AI API KEY\""
      ]
    },
    {
      "cell_type": "code",
      "execution_count": null,
      "metadata": {
        "id": "0kX1axF_mGwp"
      },
      "outputs": [],
      "source": [
        "retrieved_chunks = [sentences[idx] for idx in indices[0]]"
      ]
    },
    {
      "cell_type": "code",
      "execution_count": null,
      "metadata": {
        "colab": {
          "base_uri": "https://localhost:8080/"
        },
        "id": "uafCQUPEkMU7",
        "outputId": "47c6d8fb-8926-4d7c-b75b-fd3e5e98db0f"
      },
      "outputs": [
        {
          "name": "stdout",
          "output_type": "stream",
          "text": [
            "\n",
            "  Final Answer:\n",
            " Yes, based on the context provided, the statement \"I adore dogs\" would likely be true because you have expressed a positive sentiment towards dogs.\n"
          ]
        }
      ],
      "source": [
        "context=\"\\n\".join(retrieved_chunks)\n",
        "prompt=f\"\"\"Answer the question based on the context below:\n",
        "context:\n",
        "{context}\n",
        "question:\n",
        "{query}\n",
        "answer:\n",
        "\"\"\"\n",
        "\n",
        "client = openai.OpenAI(api_key=openai.api_key)\n",
        "\n",
        "response=client.chat.completions.create(\n",
        "    model=\"gpt-3.5-turbo\",\n",
        "    messages=[\n",
        "        {\"role\":\"system\",\"content\":\"You are a helpful assistant.\"},\n",
        "        {\"role\":\"user\",\"content\":prompt}\n",
        "    ]\n",
        ")\n",
        "\n",
        "print(\"\\n  Final Answer:\\n\",response.choices[0].message.content.strip())"
      ]
    }
  ]
}